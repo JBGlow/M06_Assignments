{
 "cells": [
  {
   "cell_type": "code",
   "execution_count": 16,
   "id": "b170a561",
   "metadata": {},
   "outputs": [
    {
     "name": "stdout",
     "output_type": "stream",
     "text": [
      "<class 'str'>\n",
      "Today's date, 2023-11-27 was written to today.txt\n"
     ]
    }
   ],
   "source": [
    "#Exercise 13.1 --- write today's date as string to a file\n",
    "\n",
    "#import modules\n",
    "from datetime import date\n",
    "\n",
    "#convert today's date to string\n",
    "date_as_str = str(date.today())\n",
    "\n",
    "#for testing purposes; checks if date_as_string was actually a str\n",
    "print(type(date_as_str)) \n",
    "\n",
    "#writes date_as_str to today.txt with an extra message confirming.\n",
    "f = open(\"today.txt\", \"w\")\n",
    "f.write(date_as_str)\n",
    "f.close()\n",
    "print(\"Today's date,\", date_as_str, \"was written to today.txt\")\n"
   ]
  },
  {
   "cell_type": "code",
   "execution_count": 25,
   "id": "e0b0927d",
   "metadata": {},
   "outputs": [
    {
     "name": "stdout",
     "output_type": "stream",
     "text": [
      "<class 'str'>\n",
      "2023-11-27\n"
     ]
    }
   ],
   "source": [
    "#Exercise 13.2 --- read today.txt into today_string var\n",
    "\n",
    "#read today.txt into today_str\n",
    "with open(\"today.txt\", 'r') as file:\n",
    "    today_string = file.read().replace('\\n', '')\n",
    "\n",
    "#extra step; check type and print\n",
    "print(type(today_string))\n",
    "print(today_string)"
   ]
  },
  {
   "cell_type": "code",
   "execution_count": 40,
   "id": "590994e1",
   "metadata": {},
   "outputs": [
    {
     "name": "stdout",
     "output_type": "stream",
     "text": [
      "<class 'datetime.datetime'>\n",
      "2023-11-27 00:00:00\n"
     ]
    }
   ],
   "source": [
    "#Exercise 13.3 ---parse date from today_string\n",
    "\n",
    "#import module\n",
    "from datetime import datetime\n",
    "\n",
    "#parse date into new variable date_time\n",
    "parse_time = datetime.strptime(today_string, \"%Y-%m-%d\")\n",
    "\n",
    "#check type and print\n",
    "print(type(parse_time))\n",
    "print(parse_time)"
   ]
  },
  {
   "cell_type": "code",
   "execution_count": 1,
   "id": "6ad794ea",
   "metadata": {},
   "outputs": [
    {
     "name": "stdout",
     "output_type": "stream",
     "text": [
      "2023-11-28 00:38:48.159065\n",
      "2023-11-28 00:38:48.502722\n",
      "2023-11-28 00:38:49.127920\n"
     ]
    }
   ],
   "source": [
    "#Exercise 15.1 ---Use multiprocessing\n",
    "\n",
    "#import modules\n",
    "import multiprocessing\n",
    "import random\n",
    "import time\n",
    "from datetime import datetime\n",
    "\n",
    "#create function\n",
    "def wait_print_exit():\n",
    "    time.sleep(random.random()) #random.random should create a random float between 0 and 1\n",
    "    print(datetime.now())\n",
    "    exit()\n",
    "\n",
    "#Three separate processes are created, started, joined\n",
    "p1 = multiprocessing.Process(target=wait_print_exit())\n",
    "p2 = multiprocessing.Process(target=wait_print_exit())\n",
    "p3 = multiprocessing.Process(target=wait_print_exit())\n",
    "\n",
    "p1.start()\n",
    "p2.start()\n",
    "p3.start()\n",
    "\n",
    "p1.join()\n",
    "p2.join()\n",
    "p3.join()"
   ]
  },
  {
   "cell_type": "code",
   "execution_count": null,
   "id": "a46ffb6e",
   "metadata": {},
   "outputs": [],
   "source": []
  }
 ],
 "metadata": {
  "kernelspec": {
   "display_name": "Python 3 (ipykernel)",
   "language": "python",
   "name": "python3"
  },
  "language_info": {
   "codemirror_mode": {
    "name": "ipython",
    "version": 3
   },
   "file_extension": ".py",
   "mimetype": "text/x-python",
   "name": "python",
   "nbconvert_exporter": "python",
   "pygments_lexer": "ipython3",
   "version": "3.11.5"
  }
 },
 "nbformat": 4,
 "nbformat_minor": 5
}
